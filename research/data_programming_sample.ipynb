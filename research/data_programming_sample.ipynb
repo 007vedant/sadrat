{
 "cells": [
  {
   "cell_type": "markdown",
   "metadata": {},
   "source": [
    "# Import Dataset"
   ]
  },
  {
   "cell_type": "code",
   "execution_count": 1,
   "metadata": {},
   "outputs": [],
   "source": [
    "import pandas as pd\n",
    "import pickle"
   ]
  },
  {
   "cell_type": "code",
   "execution_count": 2,
   "metadata": {},
   "outputs": [],
   "source": [
    "df = pd.read_csv(\"/Users/jarvis/Desktop/CODE/sadrat/sample/medications_dot_com_data.csv\")"
   ]
  },
  {
   "cell_type": "code",
   "execution_count": 3,
   "metadata": {
    "scrolled": true
   },
   "outputs": [
    {
     "data": {
      "text/html": [
       "<div>\n",
       "<style scoped>\n",
       "    .dataframe tbody tr th:only-of-type {\n",
       "        vertical-align: middle;\n",
       "    }\n",
       "\n",
       "    .dataframe tbody tr th {\n",
       "        vertical-align: top;\n",
       "    }\n",
       "\n",
       "    .dataframe thead th {\n",
       "        text-align: right;\n",
       "    }\n",
       "</style>\n",
       "<table border=\"1\" class=\"dataframe\">\n",
       "  <thead>\n",
       "    <tr style=\"text-align: right;\">\n",
       "      <th></th>\n",
       "      <th>id</th>\n",
       "      <th>drugname</th>\n",
       "      <th>comment</th>\n",
       "    </tr>\n",
       "  </thead>\n",
       "  <tbody>\n",
       "    <tr>\n",
       "      <th>0</th>\n",
       "      <td>0</td>\n",
       "      <td>levaquin</td>\n",
       "      <td>ive been allergic to many antibiotics since I ...</td>\n",
       "    </tr>\n",
       "    <tr>\n",
       "      <th>1</th>\n",
       "      <td>1</td>\n",
       "      <td>levaquin</td>\n",
       "      <td>Was prescribed leviquin for sinus.  Took dose ...</td>\n",
       "    </tr>\n",
       "    <tr>\n",
       "      <th>2</th>\n",
       "      <td>2</td>\n",
       "      <td>levaquin</td>\n",
       "      <td>Been reading the blog - thank God.  Thank God ...</td>\n",
       "    </tr>\n",
       "    <tr>\n",
       "      <th>3</th>\n",
       "      <td>3</td>\n",
       "      <td>levaquin</td>\n",
       "      <td>1/14/2012. I was given Levaquin and two steroi...</td>\n",
       "    </tr>\n",
       "    <tr>\n",
       "      <th>4</th>\n",
       "      <td>4</td>\n",
       "      <td>levaquin</td>\n",
       "      <td>today was my 3rd day of taking levaquin. i suf...</td>\n",
       "    </tr>\n",
       "  </tbody>\n",
       "</table>\n",
       "</div>"
      ],
      "text/plain": [
       "   id  drugname                                            comment\n",
       "0   0  levaquin  ive been allergic to many antibiotics since I ...\n",
       "1   1  levaquin  Was prescribed leviquin for sinus.  Took dose ...\n",
       "2   2  levaquin  Been reading the blog - thank God.  Thank God ...\n",
       "3   3  levaquin  1/14/2012. I was given Levaquin and two steroi...\n",
       "4   4  levaquin  today was my 3rd day of taking levaquin. i suf..."
      ]
     },
     "execution_count": 3,
     "metadata": {},
     "output_type": "execute_result"
    }
   ],
   "source": [
    "df.head()"
   ]
  },
  {
   "cell_type": "code",
   "execution_count": 4,
   "metadata": {},
   "outputs": [
    {
     "data": {
      "text/plain": [
       "'During the last 1 1/2 years, I have suffered severe hearing loss, first my right ear and now my left.  I have regained perhaps 50-60% hearing in my right ear but a few days ago the same symptons reappeared and within 5 days I have lost all hearing in my\\xa0... more »During the last 1 1/2 years, I have suffered severe hearing loss, first my right ear and now my left.  I have regained perhaps 50-60% hearing in my right ear but a few days ago the same symptons reappeared and within 5 days I have lost all hearing in my left ear!\\nI am currently taking prednisone for 7 days.\\nHas anyone else experienced hearing loss which they attribute to the use of warfarin (coumaden?)  I am desperate for information that might lead me to some sort of enlightenment I could build on.\\nKen'"
      ]
     },
     "execution_count": 4,
     "metadata": {},
     "output_type": "execute_result"
    }
   ],
   "source": [
    "#looking at the comments to have an intuition for labelling functions\n",
    "#PLEASE NOTE THAT I MADE A SILLY MISTAKE WHILE NAMING MY COLUMN IN THE DATASET, THERE'S A SPACE BEFORE \n",
    "# \"comment\" AND \"drugname\". WRITE IT AS \" comment\" and \" drugname\". \n",
    "df[\" comment\"][100]"
   ]
  },
  {
   "cell_type": "markdown",
   "metadata": {},
   "source": [
    "### Getting the dictionary of drugs and their known side effects scraped from drugs.com website."
   ]
  },
  {
   "cell_type": "code",
   "execution_count": 55,
   "metadata": {},
   "outputs": [],
   "source": [
    "with open(\"/Users/jarvis/Desktop/CODE/sadrat/datasets/drug_adr\", \"rb\") as file:\n",
    "    drug = pickle.load(file)\n",
    "file.close()"
   ]
  },
  {
   "cell_type": "markdown",
   "metadata": {},
   "source": [
    "# Labelling Functions"
   ]
  },
  {
   "cell_type": "code",
   "execution_count": 5,
   "metadata": {},
   "outputs": [],
   "source": [
    "from snorkel.labeling import labeling_function"
   ]
  },
  {
   "cell_type": "markdown",
   "metadata": {},
   "source": [
    "### LF1: The ADRs are usually written with a negative tone so starting with sentiment analysis as the first labelling function is a good start : )"
   ]
  },
  {
   "cell_type": "code",
   "execution_count": 6,
   "metadata": {},
   "outputs": [],
   "source": [
    "from snorkel.preprocess.nlp import SpacyPreprocessor"
   ]
  },
  {
   "cell_type": "code",
   "execution_count": 7,
   "metadata": {},
   "outputs": [],
   "source": [
    "# The SpacyPreprocessor parses the text in text_field and\n",
    "# stores the new enriched representation in doc_field\n",
    "spacy = SpacyPreprocessor(text_field=\"text\", doc_field=\"doc\", memoize=True)"
   ]
  },
  {
   "cell_type": "code",
   "execution_count": null,
   "metadata": {},
   "outputs": [],
   "source": []
  }
 ],
 "metadata": {
  "kernelspec": {
   "display_name": "sadrat",
   "language": "python",
   "name": "sadrat"
  },
  "language_info": {
   "codemirror_mode": {
    "name": "ipython",
    "version": 3
   },
   "file_extension": ".py",
   "mimetype": "text/x-python",
   "name": "python",
   "nbconvert_exporter": "python",
   "pygments_lexer": "ipython3",
   "version": "3.7.2"
  }
 },
 "nbformat": 4,
 "nbformat_minor": 2
}

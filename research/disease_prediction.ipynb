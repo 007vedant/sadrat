{
 "cells": [
  {
   "cell_type": "code",
   "execution_count": 4,
   "metadata": {},
   "outputs": [],
   "source": [
    "import json\n",
    "import sys\n",
    "import spacy\n",
    "import scispacy\n",
    "import pandas as pd\n",
    "from scispacy.umls_linking import UmlsEntityLinker\n",
    "\n",
    "nlp = spacy.load(\"en_ner_bc5cdr_md\")"
   ]
  },
  {
   "cell_type": "code",
   "execution_count": 5,
   "metadata": {},
   "outputs": [
    {
     "data": {
      "text/html": [
       "<div>\n",
       "<style scoped>\n",
       "    .dataframe tbody tr th:only-of-type {\n",
       "        vertical-align: middle;\n",
       "    }\n",
       "\n",
       "    .dataframe tbody tr th {\n",
       "        vertical-align: top;\n",
       "    }\n",
       "\n",
       "    .dataframe thead th {\n",
       "        text-align: right;\n",
       "    }\n",
       "</style>\n",
       "<table border=\"1\" class=\"dataframe\">\n",
       "  <thead>\n",
       "    <tr style=\"text-align: right;\">\n",
       "      <th></th>\n",
       "      <th>name</th>\n",
       "      <th>alias</th>\n",
       "    </tr>\n",
       "  </thead>\n",
       "  <tbody>\n",
       "    <tr>\n",
       "      <th>0</th>\n",
       "      <td>bivalirudin</td>\n",
       "      <td>Angiomax#BG8967#BG 8967#BG-8967#Hirulog#Hirulo...</td>\n",
       "    </tr>\n",
       "    <tr>\n",
       "      <th>1</th>\n",
       "      <td>Goserelin</td>\n",
       "      <td>Acetate, Goserelin#Goserelin Acetate#ICI118630...</td>\n",
       "    </tr>\n",
       "    <tr>\n",
       "      <th>2</th>\n",
       "      <td>Deamino Arginine Vasopressin</td>\n",
       "      <td>1-Deamino-8-D-arginine Vasopressin#1-Desamino-...</td>\n",
       "    </tr>\n",
       "    <tr>\n",
       "      <th>3</th>\n",
       "      <td>cetrorelix</td>\n",
       "      <td>cetrorelix acetate#cetrorelix pamoate#Cetrotid...</td>\n",
       "    </tr>\n",
       "    <tr>\n",
       "      <th>4</th>\n",
       "      <td>Felypressin</td>\n",
       "      <td>Lysine Vasopressin, Phenylalanine#Octapressin#...</td>\n",
       "    </tr>\n",
       "  </tbody>\n",
       "</table>\n",
       "</div>"
      ],
      "text/plain": [
       "                           name  \\\n",
       "0                   bivalirudin   \n",
       "1                     Goserelin   \n",
       "2  Deamino Arginine Vasopressin   \n",
       "3                    cetrorelix   \n",
       "4                   Felypressin   \n",
       "\n",
       "                                               alias  \n",
       "0  Angiomax#BG8967#BG 8967#BG-8967#Hirulog#Hirulo...  \n",
       "1  Acetate, Goserelin#Goserelin Acetate#ICI118630...  \n",
       "2  1-Deamino-8-D-arginine Vasopressin#1-Desamino-...  \n",
       "3  cetrorelix acetate#cetrorelix pamoate#Cetrotid...  \n",
       "4  Lysine Vasopressin, Phenylalanine#Octapressin#...  "
      ]
     },
     "execution_count": 5,
     "metadata": {},
     "output_type": "execute_result"
    }
   ],
   "source": [
    "drugs_df = pd.read_csv(r\"D:\\Events\\GE Hackathon\\sadrat\\additional resources\\drug.csv\")\n",
    "drugs_df.drop(['drug_id', 'drugbank_id', 'pubchem_cid'], axis=1, inplace=True)\n",
    "drugs_df.dropna(axis=0, inplace=True)\n",
    "drugs_df.head()"
   ]
  },
  {
   "cell_type": "code",
   "execution_count": 6,
   "metadata": {},
   "outputs": [],
   "source": [
    "with open(r\"D:\\Events\\GE Hackathon\\sadrat\\additional resources\\drug_disease.json\", \"r\") as file:\n",
    "    drug_disease = json.load(file)"
   ]
  },
  {
   "cell_type": "code",
   "execution_count": 7,
   "metadata": {},
   "outputs": [],
   "source": [
    "def get_chemical(common_name):\n",
    "    \"\"\"   \n",
    "    This function takes in the common name of any drug as an argument\n",
    "    and returns its chemical name.\n",
    "  \n",
    "    Parameters: \n",
    "    common_name (str): Common Name of any drug as a string. \n",
    "  \n",
    "    Returns: \n",
    "    chemical_name (str): Chemical Name of the given drug. \n",
    "  \n",
    "    \"\"\"\n",
    "    chemical_name = None\n",
    "    for i in range(len(drugs_df.name)):\n",
    "        if (common_name in drugs_df.iloc[i]['alias']):\n",
    "            chemical_name = drugs_df.iloc[i]['name']\n",
    "    if chemical_name == None:\n",
    "        common_name = ' '.join([word.capitalize() for word in common_name.split()])\n",
    "        for i in range(len(drugs_df.name)):\n",
    "            if (common_name in drugs_df.iloc[i]['alias']):\n",
    "                chemical_name = drugs_df.iloc[i]['name']\n",
    "    return chemical_name"
   ]
  },
  {
   "cell_type": "code",
   "execution_count": 8,
   "metadata": {},
   "outputs": [],
   "source": [
    "def get_disease(drug):\n",
    "    \"\"\"   \n",
    "    This function takes in the chemical name of any drug as an argument\n",
    "    and returns all the possible diseases, the drug can be prescribed for.\n",
    "  \n",
    "    Parameters: \n",
    "    drug (str): Chemical Name of any drug as a string. \n",
    "  \n",
    "    Returns: \n",
    "    disease (list): List of all possible diseases. \n",
    "  \n",
    "    \"\"\"\n",
    "    disease = None\n",
    "    if drug in drug_disease.keys():\n",
    "        disease = sorted(drug_disease[drug])\n",
    "    drug = ' '.join([word.capitalize() for word in drug.split()])\n",
    "    if drug in drug_disease.keys():\n",
    "        disease = sorted(drug_disease[drug])\n",
    "    drug = get_chemical(drug)\n",
    "    if drug in drug_disease.keys():\n",
    "        disease = sorted(drug_disease[drug])\n",
    "    return disease "
   ]
  },
  {
   "cell_type": "code",
   "execution_count": 31,
   "metadata": {},
   "outputs": [],
   "source": [
    "def disease_matching(diseases_lists):\n",
    "    \"\"\"\n",
    "    Parameters:\n",
    "        *argv: All lists about probable diseases from multiple sources.\n",
    "    \n",
    "    Returns:\n",
    "        diseases: List of diseases which are most common or most probable.\n",
    "    \"\"\"\n",
    "    n = len(diseases_lists)\n",
    "    diseases = set(diseases_lists[0])\n",
    "    for dis in diseases_lists:\n",
    "        dis = set(dis)\n",
    "        diseases = diseases.intersection(dis)\n",
    "    return diseases"
   ]
  },
  {
   "cell_type": "code",
   "execution_count": 78,
   "metadata": {},
   "outputs": [],
   "source": [
    "def disease_from_tweet(tweet):\n",
    "    \"\"\"\n",
    "    This function takes in a tweet or any other string as an argument\n",
    "    and returns its possible disease related to the tweet.\n",
    "\n",
    "    Parameters:\n",
    "    tweet (str): A tweet or a string.\n",
    "\n",
    "    Returns:\n",
    "    diseases (list): List of all probable diseases.\n",
    "    \"\"\"\n",
    "    doc = nlp(tweet)\n",
    "    drugs = []\n",
    "    ds = []\n",
    "    diseases = []\n",
    "    for entity in doc.ents:\n",
    "        drug = entity.text\n",
    "        label = entity.label_\n",
    "        if label == \"CHEMICAL\" and drug not in drugs:\n",
    "            diseases.append(get_disease(drug))\n",
    "        elif label == \"DISEASE\" and drug not in drugs:\n",
    "            ds.append(drug)\n",
    "        drugs.append(drug)\n",
    "    if len(ds):\n",
    "        diseases.append(ds)\n",
    "    if len(diseases) == 1:\n",
    "        return None\n",
    "    else:\n",
    "        return disease_matching(diseases)"
   ]
  },
  {
   "cell_type": "code",
   "execution_count": 100,
   "metadata": {},
   "outputs": [],
   "source": [
    "tweet = 'My doctor prescribed me paracetamol because my BP was a little high. Headache took the pill for 2 days and noticed a small mosquito looking bump in the center of my top lip.  About 3 hours later my lip was so big & numb I immediately went to the ER to find out lisinopril was the cause of it.  This is ridiculous Im embarrassed to go any place because of my lip. If any one is thinking about starting a law suite you can count me in. ... more »My doctor prescribed me lisinopril because my BP was a little high.  I took the pill for 2 days and noticed a small mosquito looking bump in the center of my top lip.  About 3 hours later my lip was so big & numb I immediately went to the ER to find out lisinopril was the cause of it.  This is ridiculous Im embarrassed to go any place because of my lip. If any one is thinking about starting a law suite you can count me in.'"
   ]
  },
  {
   "cell_type": "code",
   "execution_count": 102,
   "metadata": {},
   "outputs": [
    {
     "name": "stdout",
     "output_type": "stream",
     "text": [
      "(paracetamol, Headache, lisinopril, lisinopril, lisinopril)\n",
      "{'Headache'}\n"
     ]
    }
   ],
   "source": [
    "pprint((disease_from_tweet(tweet)))"
   ]
  },
  {
   "cell_type": "code",
   "execution_count": null,
   "metadata": {},
   "outputs": [],
   "source": []
  }
 ],
 "metadata": {
  "kernelspec": {
   "display_name": "sadrat",
   "language": "python",
   "name": "sadrat"
  },
  "language_info": {
   "codemirror_mode": {
    "name": "ipython",
    "version": 3
   },
   "file_extension": ".py",
   "mimetype": "text/x-python",
   "name": "python",
   "nbconvert_exporter": "python",
   "pygments_lexer": "ipython3",
   "version": "3.7.4"
  }
 },
 "nbformat": 4,
 "nbformat_minor": 2
}
